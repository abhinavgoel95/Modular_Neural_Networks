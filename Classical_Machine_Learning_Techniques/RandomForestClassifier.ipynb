{
 "cells": [
  {
   "cell_type": "markdown",
   "metadata": {},
   "source": [
    "## Random Forrest Classifier"
   ]
  },
  {
   "cell_type": "code",
   "execution_count": 14,
   "metadata": {
    "collapsed": true
   },
   "outputs": [],
   "source": []
  },
  {
   "cell_type": "code",
   "execution_count": 1,
   "metadata": {},
   "outputs": [],
   "source": [
    "from init import *"
   ]
  },
  {
   "cell_type": "code",
   "execution_count": 2,
   "metadata": {},
   "outputs": [
    {
     "name": "stderr",
     "output_type": "stream",
     "text": [
      "/local/a/cam2/anaconda3/lib/python3.7/site-packages/sklearn/ensemble/weight_boosting.py:29: DeprecationWarning: numpy.core.umath_tests is an internal NumPy module and should not be imported. It will be removed in a future NumPy release.\n",
      "  from numpy.core.umath_tests import inner1d\n"
     ]
    }
   ],
   "source": [
    "from sklearn.ensemble import RandomForestClassifier\n",
    "from sklearn import metrics\n",
    "from sklearn import datasets\n",
    "\n",
    "from sklearn.decomposition import PCA\n",
    "\n",
    "import pandas as pd"
   ]
  },
  {
   "cell_type": "code",
   "execution_count": 3,
   "metadata": {},
   "outputs": [],
   "source": [
    "%matplotlib inline"
   ]
  },
  {
   "cell_type": "code",
   "execution_count": 4,
   "metadata": {},
   "outputs": [],
   "source": [
    "X = train_features.reshape(50000, 3*32*32)\n",
    "Xt = test_features.reshape(10000, 3*32*32)\n",
    "y = train_labels.flatten()\n",
    "yt = test_labels.flatten()"
   ]
  },
  {
   "cell_type": "code",
   "execution_count": 5,
   "metadata": {},
   "outputs": [],
   "source": [
    "def RFC(n=16, _X=None, _Xt=None):\n",
    "    if _X is None:\n",
    "        _X = X\n",
    "    \n",
    "    if _Xt is None:\n",
    "        _Xt = Xt\n",
    "    \n",
    "    msg(\"[RFC/%d] Training\" % n)\n",
    "    rfc = RandomForestClassifier(n_estimators=n, n_jobs=-1)\n",
    "    rfc.fit(_X, y)\n",
    "    done()\n",
    "    \n",
    "    pydump(rfc, \"pickles/rfc_{}.pickle\".format(n))\n",
    "    \n",
    "    msg(\"[RFC/%d] Training Accuracy\" % n)\n",
    "    _X_pred = rfc.predict(_X)\n",
    "    msg(metrics.accuracy_score(y, _X_pred))\n",
    "    done()\n",
    "    \n",
    "    msg(\"[RFC/%d] Testing Accuracy\" % n)\n",
    "    _Xt_pred = rfc.predict(_Xt)\n",
    "    msg(metrics.accuracy_score(yt, _Xt_pred))\n",
    "    done()\n",
    "    \n",
    "    pydump(_Xt_pred, \"pickles/rfc_{}_predict.pickle\".format(n))\n",
    "    pydump(rfc.predict_proba(_Xt), \"pickles/rfc_{}_predict_proba.pickle\".format(n))\n",
    "    \n",
    "\n",
    "    print(\"\")"
   ]
  },
  {
   "cell_type": "code",
   "execution_count": 6,
   "metadata": {},
   "outputs": [
    {
     "name": "stdout",
     "output_type": "stream",
     "text": [
      "[RFC/512] Training ... done.\n",
      "[RFC/512] Training Accuracy ... 1.0 ... done.\n",
      "[RFC/512] Testing Accuracy ... 0.4884 ... done.\n",
      "\n"
     ]
    }
   ],
   "source": [
    "RFC(n=512)"
   ]
  },
  {
   "cell_type": "code",
   "execution_count": null,
   "metadata": {},
   "outputs": [
    {
     "name": "stdout",
     "output_type": "stream",
     "text": [
      "[RFC/512] Training ... "
     ]
    }
   ],
   "source": [
    "pca_200 = PCA(n_components=100)\n",
    "pca_200.fit(X,y)\n",
    "\n",
    "X_pca_200 = pca_200.transform(X)\n",
    "Xt_pca_200 = pca_200.transform(Xt)\n",
    "\n",
    "RFC(n=512, _X=X_pca_200, _Xt=Xt_pca_200)"
   ]
  },
  {
   "cell_type": "code",
   "execution_count": null,
   "metadata": {},
   "outputs": [],
   "source": []
  }
 ],
 "metadata": {
  "kernelspec": {
   "display_name": "Python 3",
   "language": "python",
   "name": "python3"
  },
  "language_info": {
   "codemirror_mode": {
    "name": "ipython",
    "version": 3
   },
   "file_extension": ".py",
   "mimetype": "text/x-python",
   "name": "python",
   "nbconvert_exporter": "python",
   "pygments_lexer": "ipython3",
   "version": "3.7.2"
  }
 },
 "nbformat": 4,
 "nbformat_minor": 1
}
