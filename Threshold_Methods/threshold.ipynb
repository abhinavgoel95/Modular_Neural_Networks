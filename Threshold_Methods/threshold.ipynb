{
 "cells": [
  {
   "cell_type": "code",
   "execution_count": 1,
   "metadata": {},
   "outputs": [],
   "source": [
    "import torch\n",
    "import pickle\n",
    "import matplotlib.pyplot as plt\n",
    "import numpy as np"
   ]
  },
  {
   "cell_type": "code",
   "execution_count": 2,
   "metadata": {},
   "outputs": [],
   "source": [
    "def PCA(data, k=2):\n",
    "    X = data\n",
    "    X_mean = torch.mean(X,0)\n",
    "    X = X - X_mean.expand_as(X)\n",
    "    U,S,V = torch.svd(torch.t(X))\n",
    "    return torch.mm(X,U[:,:k])"
   ]
  },
  {
   "cell_type": "code",
   "execution_count": null,
   "metadata": {},
   "outputs": [],
   "source": []
  },
  {
   "cell_type": "code",
   "execution_count": 4,
   "metadata": {},
   "outputs": [
    {
     "name": "stdout",
     "output_type": "stream",
     "text": [
      "10\n"
     ]
    }
   ],
   "source": []
  },
  {
   "cell_type": "code",
   "execution_count": 5,
   "metadata": {},
   "outputs": [],
   "source": [
    "label_names = {\n",
    "    0 : \"airplane\",\n",
    "    1 : \"automobile\",\n",
    "    2 : \"bird\",\n",
    "    3 : \"cat\",\n",
    "    4 : \"deer\",\n",
    "    5 : \"dog\",\n",
    "    6 : \"frog\",\n",
    "    7 : \"horse\",\n",
    "    8 : \"ship\",\n",
    "    9 : \"truck\"\n",
    "}"
   ]
  },
  {
   "cell_type": "code",
   "execution_count": 6,
   "metadata": {},
   "outputs": [
    {
     "name": "stdout",
     "output_type": "stream",
     "text": [
      "[4957, 4935, 4955, 4944, 4936, 4970, 4945, 4950, 4952, 4956]\n"
     ]
    }
   ],
   "source": [
    "lens = []\n",
    "for i in range(10):\n",
    "    lens.append(clusters[i].shape[0])\n",
    "print(lens)"
   ]
  },
  {
   "cell_type": "code",
   "execution_count": null,
   "metadata": {},
   "outputs": [],
   "source": []
  },
  {
   "cell_type": "code",
   "execution_count": 7,
   "metadata": {
    "scrolled": false
   },
   "outputs": [
    {
     "name": "stdout",
     "output_type": "stream",
     "text": [
      "bird cat deer dog automobile truck\n"
     ]
    },
    {
     "data": {
      "image/png": "[encoded data removed]",
      "text/plain": [
       "<Figure size 432x216 with 1 Axes>"
      ]
     },
     "metadata": {
      "needs_background": "light"
     },
     "output_type": "display_data"
    }
   ],
   "source": [
    "plt.figure(figsize=(6,3))\n",
    "one = 2\n",
    "two = 3\n",
    "three = 4\n",
    "four = 5\n",
    "five = 1\n",
    "six = 9\n",
    "seven = 6\n",
    "eight = 7 \n",
    "\n",
    "c1 = torch.sum(clusters[one], dim = 0)/clusters[one].shape[0]\n",
    "c2 = torch.sum(clusters[two], dim = 0)/clusters[two].shape[0]\n",
    "c3 = torch.sum(clusters[three], dim = 0)/clusters[three].shape[0]\n",
    "c4 = torch.sum(clusters[four], dim = 0)/clusters[four].shape[0]\n",
    "c5 = torch.sum(clusters[five], dim = 0)/clusters[five].shape[0]\n",
    "c6 = torch.sum(clusters[six], dim = 0)/clusters[six].shape[0]\n",
    "c7 = torch.sum(clusters[seven], dim = 0)/clusters[seven].shape[0]\n",
    "c8 = torch.sum(clusters[eight], dim = 0)/clusters[eight].shape[0]\n",
    "\n",
    "print(label_names[one], label_names[two], label_names[three], label_names[four], label_names[five], label_names[six])\n",
    "x = np.array(\n",
    "                PCA(torch.cat((clusters[one], clusters[two], \n",
    "                               clusters[three], clusters[four],\n",
    "                               clusters[five], clusters[six],\n",
    "                               c1.reshape(1,-1), c2.reshape(1,-1), \n",
    "                               c3.reshape(1,-1), c4.reshape(1,-1),\n",
    "                               c5.reshape(1,-1), c6.reshape(1,-1)\n",
    "                              )\n",
    "                             )).cpu()\n",
    "            )\n",
    "\n",
    "plt.scatter(x[:,0][lens[one]+lens[two]:lens[one]+lens[two]+lens[three]], x[:,1][lens[one]+lens[two]:lens[one]+lens[two]+lens[three]], color = 'seashell', label = label_names[three], edgecolors = 'black')\n",
    "plt.scatter(x[:,0][lens[one]+lens[two]:lens[one]+lens[two]+lens[three]], x[:,1][lens[one]+lens[two]:lens[one]+lens[two]+lens[three]], color = 'seashell')\n",
    "\n",
    "plt.scatter(x[:,0][:lens[one]], x[:,1][:lens[one]], color = 'silver', label = label_names[one], edgecolors = 'black')\n",
    "plt.scatter(x[:,0][:lens[one]], x[:,1][:lens[one]], color = 'silver')\n",
    "\n",
    "plt.scatter(x[:,0][lens[one]:lens[one]+lens[two]], x[:,1][lens[one]:lens[one]+lens[two]], color = 'lightgrey', label = label_names[two], edgecolors = 'black')\n",
    "plt.scatter(x[:,0][lens[one]:lens[one]+lens[two]], x[:,1][lens[one]:lens[one]+lens[two]], color = 'lightgrey')\n",
    "\n",
    "plt.scatter(x[:,0][lens[one]+lens[two]+lens[three]:lens[one]+lens[two]+lens[three]+lens[four]], x[:,1][lens[one]+lens[two]+lens[three]:lens[one]+lens[two]+lens[three]+lens[four]], color = 'darkgray', label = label_names[four], edgecolors='black')\n",
    "plt.scatter(x[:,0][lens[one]+lens[two]+lens[three]:lens[one]+lens[two]+lens[three]+lens[four]], x[:,1][lens[one]+lens[two]+lens[three]:lens[one]+lens[two]+lens[three]+lens[four]], color = 'darkgray')\n",
    "\n",
    "plt.scatter(x[:,0][lens[one]+lens[two]+lens[three]+lens[four]+lens[five]:lens[one]+lens[two]+lens[three]+lens[four]+lens[five]+lens[six]], x[:,1][lens[one]+lens[two]+lens[three]+lens[four]+lens[five]:lens[one]+lens[two]+lens[three]+lens[four]+lens[five]+lens[six]], color = 'dimgray', label = label_names[six], edgecolors='black')\n",
    "plt.scatter(x[:,0][lens[one]+lens[two]+lens[three]+lens[four]+lens[five]:lens[one]+lens[two]+lens[three]+lens[four]+lens[five]+lens[six]], x[:,1][lens[one]+lens[two]+lens[three]+lens[four]+lens[five]:lens[one]+lens[two]+lens[three]+lens[four]+lens[five]+lens[six]], color = 'dimgray')\n",
    "\n",
    "plt.scatter(x[:,0][lens[one]+lens[two]+lens[three]+lens[four]:lens[one]+lens[two]+lens[three]+lens[four]+lens[five]], x[:,1][lens[one]+lens[two]+lens[three]+lens[four]:lens[one]+lens[two]+lens[three]+lens[four]+lens[five]], color = 'black', label = label_names[five], edgecolors='black')\n",
    "plt.scatter(x[:,0][lens[one]+lens[two]+lens[three]+lens[four]:lens[one]+lens[two]+lens[three]+lens[four]+lens[five]], x[:,1][lens[one]+lens[two]+lens[three]+lens[four]:lens[one]+lens[two]+lens[three]+lens[four]+lens[five]], color = 'black')\n",
    "\n",
    "\n",
    "plt.scatter(x[:,0][-6], x[:,1][-6], color = 'white', marker = 'x')\n",
    "plt.scatter(x[:,0][-5], x[:,1][-5], color = 'white', marker = 'x')\n",
    "plt.scatter(x[:,0][-4], x[:,1][-4], color = 'white', marker = 'x')\n",
    "plt.scatter(x[:,0][-3], x[:,1][-3], color = 'white', marker = 'x')\n",
    "plt.scatter(x[:,0][-2], x[:,1][-2], color = 'white', marker = 'x')\n",
    "plt.scatter(x[:,0][-1], x[:,1][-1], color = 'white', marker = 'x')\n",
    "\n",
    "plt.legend(loc=\"upper center\", ncol = 3, bbox_to_anchor=(0.5, 1.35), fontsize = 14)\n",
    "plt.xticks(fontsize=12)\n",
    "plt.yticks(fontsize=12)\n",
    "plt.show()\n",
    "#plt.savefig('clusters.pdf', bbox_inches=\"tight\", dpi=100)"
   ]
  },
  {
   "cell_type": "code",
   "execution_count": null,
   "metadata": {},
   "outputs": [],
   "source": []
  },
  {
   "cell_type": "code",
   "execution_count": null,
   "metadata": {},
   "outputs": [],
   "source": []
  },
  {
   "cell_type": "code",
   "execution_count": null,
   "metadata": {},
   "outputs": [],
   "source": []
  },
  {
   "cell_type": "code",
   "execution_count": null,
   "metadata": {},
   "outputs": [],
   "source": []
  },
  {
   "cell_type": "code",
   "execution_count": null,
   "metadata": {},
   "outputs": [],
   "source": []
  }
 ],
 "metadata": {
  "kernelspec": {
   "display_name": "Python 3",
   "language": "python",
   "name": "python3"
  },
  "language_info": {
   "codemirror_mode": {
    "name": "ipython",
    "version": 3
   },
   "file_extension": ".py",
   "mimetype": "text/x-python",
   "name": "python",
   "nbconvert_exporter": "python",
   "pygments_lexer": "ipython3",
   "version": "3.6.7"
  }
 },
 "nbformat": 4,
 "nbformat_minor": 2
}
