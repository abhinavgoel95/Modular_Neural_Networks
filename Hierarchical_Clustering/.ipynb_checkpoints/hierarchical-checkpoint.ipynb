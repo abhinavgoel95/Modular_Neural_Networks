{
 "cells": [
  {
   "cell_type": "code",
   "execution_count": 8,
   "metadata": {},
   "outputs": [],
   "source": [
    "import torch"
   ]
  },
  {
   "cell_type": "code",
   "execution_count": 9,
   "metadata": {},
   "outputs": [
    {
     "name": "stdout",
     "output_type": "stream",
     "text": [
      "10\n"
     ]
    }
   ],
   "source": [
    "clusters = []\n",
    "for i in range(10):\n",
    "    clusters.append(torch.load(\"../Threshold_Methods/clustering_out\"+str(i)+\".pth\"))\n",
    "print(len(clusters))"
   ]
  },
  {
   "cell_type": "code",
   "execution_count": 10,
   "metadata": {
    "scrolled": true
   },
   "outputs": [
    {
     "name": "stdout",
     "output_type": "stream",
     "text": [
      "SG1 cat dog 399.04534912109375\n",
      "SG2 bird SG1 376.43585205078125\n",
      "SG3 deer SG2 347.405517578125\n",
      "SG4 airplane SG3 317.7509765625\n",
      "SG5 automobile SG4 344.3289489746094\n",
      "SG6 truck SG5 346.6699523925781\n",
      "SG7 ship SG6 376.9315185546875\n",
      "SG8 frog SG7 454.2263488769531\n",
      "SG9 horse SG8 444.72186279296875\n"
     ]
    }
   ],
   "source": [
    "S = torch.cat((\n",
    "            (torch.sum(clusters[0], dim = 0)/clusters[0].shape[0]).reshape(1,-1),\n",
    "            (torch.sum(clusters[1], dim = 0)/clusters[1].shape[0]).reshape(1,-1),\n",
    "            (torch.sum(clusters[2], dim = 0)/clusters[2].shape[0]).reshape(1,-1),\n",
    "            (torch.sum(clusters[3], dim = 0)/clusters[3].shape[0]).reshape(1,-1),\n",
    "            (torch.sum(clusters[4], dim = 0)/clusters[4].shape[0]).reshape(1,-1),\n",
    "            (torch.sum(clusters[5], dim = 0)/clusters[5].shape[0]).reshape(1,-1),\n",
    "            (torch.sum(clusters[6], dim = 0)/clusters[6].shape[0]).reshape(1,-1),\n",
    "            (torch.sum(clusters[7], dim = 0)/clusters[7].shape[0]).reshape(1,-1),\n",
    "            (torch.sum(clusters[8], dim = 0)/clusters[8].shape[0]).reshape(1,-1),\n",
    "            (torch.sum(clusters[9], dim = 0)/clusters[9].shape[0]).reshape(1,-1)\n",
    "))\n",
    "\n",
    "multiplies = ['airplane', 'automobile', 'bird', 'cat', 'deer', 'dog', 'frog', 'horse', 'ship', 'truck']\n",
    "skip = []\n",
    "while(S.shape[0] - len(skip) > 1):\n",
    "    min_dist = 99999999999999999\n",
    "    merge1 = -1\n",
    "    merge2 = -1\n",
    "    for i in range(S.shape[0]):\n",
    "        if i not in skip:\n",
    "            for j in range(i+1, S.shape[0]):\n",
    "                if j not in skip:\n",
    "                    dist = ((S[i] - S[j])*(S[i] - S[j])).sum().item()\n",
    "                    if dist < min_dist:\n",
    "                        min_dist = dist\n",
    "                        merge1 = i\n",
    "                        merge2 = j\n",
    "\n",
    "    skip.append(merge1)\n",
    "    skip.append(merge2)\n",
    "    merged = (S[merge1]+S[merge2])/2\n",
    "    print('SG'+str(int(len(skip)/2)), multiplies[merge1], multiplies[merge2], min_dist)\n",
    "    multiplies.append('SG'+str(int(len(skip)/2)))\n",
    "    S = torch.cat((S, merged.reshape((1,512))), 0)"
   ]
  },
  {
   "cell_type": "code",
   "execution_count": 15,
   "metadata": {},
   "outputs": [
    {
     "name": "stdout",
     "output_type": "stream",
     "text": [
      "            airplane           automobile   431.02923583984375\n",
      "            airplane                 bird    433.4400634765625\n",
      "            airplane                  cat    525.2123413085938\n",
      "            airplane                 deer   460.56121826171875\n",
      "            airplane                  dog    578.4402465820312\n",
      "            airplane                 frog    558.1898193359375\n",
      "            airplane                horse    549.5037231445312\n",
      "            airplane                 ship    524.7738037109375\n",
      "            airplane                truck   494.42767333984375\n",
      "          automobile                 bird     566.675048828125\n",
      "          automobile                  cat    604.6699829101562\n",
      "          automobile                 deer     555.508544921875\n",
      "          automobile                  dog     642.748779296875\n",
      "          automobile                 frog    556.1983032226562\n",
      "          automobile                horse    598.5860595703125\n",
      "          automobile                 ship   480.93194580078125\n",
      "          automobile                truck    454.0675048828125\n",
      "                bird                  cat   470.80889892578125\n",
      "                bird                 deer    481.1937255859375\n",
      "                bird                  dog      481.58544921875\n",
      "                bird                 frog     505.952392578125\n",
      "                bird                horse    553.4656982421875\n",
      "                bird                 ship     703.070556640625\n",
      "                bird                truck    663.5140991210938\n",
      "                 cat                 deer   468.62701416015625\n",
      "                 cat                  dog   399.04534912109375\n",
      "                 cat                 frog   441.54583740234375\n",
      "                 cat                horse    508.6783142089844\n",
      "                 cat                 ship    575.7649536132812\n",
      "                 cat                truck    620.4498291015625\n",
      "                deer                  dog     534.566162109375\n",
      "                deer                 frog    568.5448608398438\n",
      "                deer                horse    558.3326416015625\n",
      "                deer                 ship    703.3316040039062\n",
      "                deer                truck    633.3484497070312\n",
      "                 dog                 frog     582.888916015625\n",
      "                 dog                horse    577.2120971679688\n",
      "                 dog                 ship    659.9964599609375\n",
      "                 dog                truck     688.469970703125\n",
      "                frog                horse       651.9365234375\n",
      "                frog                 ship        668.357421875\n",
      "                frog                truck    643.6192626953125\n",
      "               horse                 ship     693.199462890625\n",
      "               horse                truck      612.87548828125\n",
      "                ship                truck    550.5753173828125\n"
     ]
    }
   ],
   "source": [
    "acc = 0\n",
    "count = 0\n",
    "\n",
    "x = S\n",
    "\n",
    "table = []\n",
    "for i in range(10):\n",
    "    for j in range(i+1,10):\n",
    "        c1 = x[i]\n",
    "        c2 = x[j]\n",
    "        table.append([multiplies[i], multiplies[j], torch.pow(c2 - c1, 2).sum()])\n",
    "\n",
    "        \n",
    "for row in table:\n",
    "    print(\"{: >20} {: >20} {: >20}\".format(*row))"
   ]
  },
  {
   "cell_type": "code",
   "execution_count": null,
   "metadata": {},
   "outputs": [],
   "source": []
  },
  {
   "cell_type": "code",
   "execution_count": null,
   "metadata": {},
   "outputs": [],
   "source": []
  }
 ],
 "metadata": {
  "kernelspec": {
   "display_name": "Python 3",
   "language": "python",
   "name": "python3"
  },
  "language_info": {
   "codemirror_mode": {
    "name": "ipython",
    "version": 3
   },
   "file_extension": ".py",
   "mimetype": "text/x-python",
   "name": "python",
   "nbconvert_exporter": "python",
   "pygments_lexer": "ipython3",
   "version": "3.6.7"
  }
 },
 "nbformat": 4,
 "nbformat_minor": 2
}
