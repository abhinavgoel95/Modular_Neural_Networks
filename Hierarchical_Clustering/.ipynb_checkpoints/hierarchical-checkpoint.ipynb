{
 "cells": [
  {
   "cell_type": "code",
   "execution_count": 2,
   "metadata": {
    "collapsed": true
   },
   "outputs": [],
   "source": [
    "import torch"
   ]
  },
  {
   "cell_type": "code",
   "execution_count": 3,
   "metadata": {
    "scrolled": true
   },
   "outputs": [],
   "source": [
    "S = torch.load('clusters2.pth', map_location=lambda storage, loc: storage)\n",
    "multiplies = ['airplane', 'automobile', 'bird', 'cat', 'deer', 'dog', 'frog', 'horse', 'ship', 'truck']\n",
    "skip = []\n",
    "while(S.shape[0] - len(skip) > 1):\n",
    "    min_dist = 99999999999999999\n",
    "    merge1 = -1\n",
    "    merge2 = -1\n",
    "    for i in range(S.shape[0]):\n",
    "        if i not in skip:\n",
    "            for j in range(i+1, S.shape[0]):\n",
    "                if j not in skip:\n",
    "                    dist = ((S[i] - S[j])*(S[i] - S[j])).sum().item()\n",
    "                    if dist < min_dist:\n",
    "                        min_dist = dist\n",
    "                        merge1 = i\n",
    "                        merge2 = j\n",
    "\n",
    "    skip.append(merge1)\n",
    "    skip.append(merge2)\n",
    "    merged = (S[merge1]+S[merge2])/2\n",
    "    print('SG'+str(int(len(skip)/2)), multiplies[merge1], multiplies[merge2], min_dist)\n",
    "    multiplies.append('SG'+str(int(len(skip)/2)))\n",
    "    S = torch.cat((S, merged.reshape((1,1,512))), 0)"
   ]
  },
  {
   "cell_type": "code",
   "execution_count": 6,
   "metadata": {},
   "outputs": [],
   "source": [
    "S = torch.load('clusters2.pth', map_location=lambda storage, loc: storage)\n",
    "multiplies = ['airplane', 'automobile', 'bird', 'cat', 'deer', 'dog', 'frog', 'horse', 'ship', 'truck']\n",
    "skip = []\n",
    "while(S.shape[0] - len(skip) > 1):\n",
    "    min_dist = 999999999999\n",
    "    merge1 = -1\n",
    "    merge2 = -1\n",
    "    for i in range(S.shape[0]):\n",
    "        if i not in skip:\n",
    "            for j in range(i+1, S.shape[0]):\n",
    "                if j not in skip:\n",
    "                    dist = ((S[i] - S[j])*(S[i] - S[j])).sum().item()\n",
    "                    print(multiplies[i], multiplies[j], dist)\n",
    "                    if dist < min_dist:\n",
    "                        min_dist = dist\n",
    "                        merge1 = i\n",
    "                        merge2 = j\n",
    "\n",
    "    skip.append(merge1)\n",
    "    skip.append(merge2)\n",
    "    merged = (S[merge1]+S[merge2])/2\n",
    "    print('------------------------------------------------------')\n",
    "    print('SG'+str(int(len(skip)/2)), multiplies[merge1], multiplies[merge2], min_dist)\n",
    "    multiplies.append('SG'+str(int(len(skip)/2)))\n",
    "    S = torch.cat((S, merged.reshape((1,1,512))), 0)\n",
    "    print('------------------------------------------------------')"
   ]
  }
 ],
 "metadata": {
  "kernelspec": {
   "display_name": "Python 3",
   "language": "python",
   "name": "python3"
  },
  "language_info": {
   "codemirror_mode": {
    "name": "ipython",
    "version": 3
   },
   "file_extension": ".py",
   "mimetype": "text/x-python",
   "name": "python",
   "nbconvert_exporter": "python",
   "pygments_lexer": "ipython3",
   "version": "3.6.7"
  }
 },
 "nbformat": 4,
 "nbformat_minor": 2
}
