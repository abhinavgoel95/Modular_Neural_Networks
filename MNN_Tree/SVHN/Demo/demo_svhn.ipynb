{
 "cells": [
  {
   "cell_type": "code",
   "execution_count": 1,
   "metadata": {},
   "outputs": [],
   "source": [
    "import torch\n",
    "import torch.nn as nn\n",
    "import torch.nn.functional as F\n",
    "from torchvision import datasets, transforms\n",
    "from torchvision import models\n",
    "from torch.autograd import Variable\n",
    "from torch.utils.data.sampler import SubsetRandomSampler\n",
    "import time\n",
    "import numpy as np\n",
    "import shutil\n",
    "import os\n",
    "import argparse\n",
    "from PIL import Image\n",
    "import matplotlib.pyplot as plt\n",
    "import glob\n",
    "import os, random"
   ]
  },
  {
   "cell_type": "code",
   "execution_count": 2,
   "metadata": {},
   "outputs": [],
   "source": [
    "m = nn.Softmax()\n",
    "\n",
    "cfg = {\n",
    "    'root': [16, 32, 32,'M'],\n",
    "    '2': [16, 'M', 32, 'M', 'D'],\n",
    "    '3': [32, 64, 'M', 'D'],\n",
    "    '1': [32, 32, 'M', 'D'],\n",
    "    '5': [16, 32, 'M', 32, 32, 'M', 64,'D'],\n",
    "    '6': [16, 32, 32, 'M', 64, 64, 128, 'M', 'D'],\n",
    "}"
   ]
  },
  {
   "cell_type": "code",
   "execution_count": 3,
   "metadata": {},
   "outputs": [],
   "source": [
    "class model(nn.Module):\n",
    "    def __init__(self, size):\n",
    "        super(model, self).__init__()\n",
    "        self.features = self._make_layers(cfg[size])\n",
    "        self.classifier = nn.Sequential(\n",
    "                        nn.Linear(32*16*16, 6),\n",
    "                )\n",
    "\n",
    "    def forward(self, x):\n",
    "        y = self.features(x)\n",
    "        x = y.view(y.size(0), -1)\n",
    "        out = self.classifier(x)\n",
    "        return y,out\n",
    "\n",
    "    def _make_layers(self, cfg, channels = 3):\n",
    "        layers = []\n",
    "        in_channels = channels\n",
    "        for x in cfg:\n",
    "            if x == 'D':\n",
    "                layers += [nn.Dropout()]\n",
    "            elif x == 'M':\n",
    "                layers += [nn.MaxPool2d(kernel_size=2, stride=2)]\n",
    "            else:\n",
    "                layers += [nn.Conv2d(in_channels, x, kernel_size=3, padding=1), nn.BatchNorm2d(x), nn.ReLU(inplace=True)]\n",
    "                in_channels = x\n",
    "        layers += [nn.AvgPool2d(kernel_size=1, stride=1)]\n",
    "        return nn.Sequential(*layers)\n",
    "\n",
    "def model_root():\n",
    "    return model('root')\n",
    "\n",
    "class mod_one(nn.Module):\n",
    "    def __init__(self, size):\n",
    "        super(mod_one, self).__init__()\n",
    "        self.features = self._make_layers(cfg[size], 32)\n",
    "        self.classifier = nn.Sequential(\n",
    "                        nn.Linear(32*8*8, 2),\n",
    "                )\n",
    "\n",
    "    def forward(self, x):\n",
    "        x = self.features(x)\n",
    "        x = x.view(x.size(0), -1)\n",
    "        out = self.classifier(x)\n",
    "        return x,out\n",
    "\n",
    "    def _make_layers(self, cfg, channels = 3):\n",
    "        layers = []\n",
    "        in_channels = channels\n",
    "        for x in cfg:\n",
    "            if x == 'D':\n",
    "                layers += [nn.Dropout()]\n",
    "            elif x == 'M':\n",
    "                layers += [nn.MaxPool2d(kernel_size=2, stride=2)]\n",
    "            else:\n",
    "                layers += [nn.Conv2d(in_channels, x, kernel_size=3, padding=1), nn.BatchNorm2d(x), nn.ReLU(inplace=True)]\n",
    "                in_channels = x\n",
    "        layers += [nn.AvgPool2d(kernel_size=1, stride=1)]\n",
    "        return nn.Sequential(*layers)\n",
    "\n",
    "def model_1():\n",
    "    return mod_one('1')\n",
    "\n",
    "class mod_three(nn.Module):\n",
    "    def __init__(self, size):\n",
    "        super(mod_three, self).__init__()\n",
    "        self.features = self._make_layers(cfg[size], 32)\n",
    "        self.classifier = nn.Sequential(\n",
    "                        nn.Linear(64*8*8, 4),\n",
    "                )\n",
    "\n",
    "    def forward(self, x):\n",
    "        x = self.features(x)\n",
    "        x = x.view(x.size(0), -1)\n",
    "        out = self.classifier(x)\n",
    "        return x,out\n",
    "\n",
    "    def _make_layers(self, cfg, channels = 3):\n",
    "        layers = []\n",
    "        in_channels = channels\n",
    "        for x in cfg:\n",
    "            if x == 'D':\n",
    "                layers += [nn.Dropout()]\n",
    "            elif x == 'M':\n",
    "                layers += [nn.MaxPool2d(kernel_size=2, stride=2)]\n",
    "            else:\n",
    "                layers += [nn.Conv2d(in_channels, x, kernel_size=3, padding=1), nn.BatchNorm2d(x), nn.ReLU(inplace=True)]\n",
    "                in_channels = x\n",
    "        layers += [nn.AvgPool2d(kernel_size=1, stride=1)]\n",
    "        return nn.Sequential(*layers)\n",
    "\n",
    "def model_3():\n",
    "    return mod_three('3')"
   ]
  },
  {
   "cell_type": "code",
   "execution_count": 4,
   "metadata": {},
   "outputs": [],
   "source": [
    "leaves = {\"root\": [0,2,4,9], \"root_3\":[0,1,2,3], \"root_1\": [0,1]}\n",
    "mapper = {\"root\": {0:0,2:2,4:4,9:9}, \"root_3\":{0:3,1:5,2:8,3:6}, \"root_1\": {0:1,1:7}}\n",
    "def is_leaf(path, output):\n",
    "    if output in leaves[path]:\n",
    "        return True\n",
    "    return False\n",
    "\n",
    "def find_category(path, leaf):\n",
    "    return mapper[path][leaf]"
   ]
  },
  {
   "cell_type": "code",
   "execution_count": 5,
   "metadata": {},
   "outputs": [],
   "source": [
    "models = {\"root_3\": model_3(), \"root_1\": model_1()}\n",
    "model_name = {\"root_3\": \"../Models/svhn_3.pth\", \"root_1\": \"../Models/svhn_1.pth\"}\n",
    "\n",
    "def fetch_model(path):\n",
    "    model = models[path].cuda().eval()\n",
    "    model.load_state_dict(torch.load(model_name[path]))\n",
    "    return model\n",
    "    "
   ]
  },
  {
   "cell_type": "code",
   "execution_count": 6,
   "metadata": {},
   "outputs": [],
   "source": [
    "def demo(model, img, device):\n",
    "    parent = \"root\"\n",
    "    path = \"root\"\n",
    "    next_data, root_out = model(img.view(1,img.shape[0], img.shape[1], img.shape[2]))\n",
    "    root_out = root_out.max(1, keepdim=True)[1]\n",
    "    if is_leaf(path, root_out.item()):\n",
    "            return find_category(path, root_out.item())\n",
    "    parent = str(root_out.item())\n",
    "    \n",
    "    while(1): \n",
    "        path = path + \"_\" + parent\n",
    "        model = fetch_model(path)\n",
    "        model = model.eval()\n",
    "        next_data, model_out = model(next_data)\n",
    "        model_out = model_out.max(1, keepdim=True)[1]\n",
    "        if is_leaf(path, model_out.item()):\n",
    "            return find_category(path, model_out.item())\n",
    "        parent = str(model_out.item())"
   ]
  },
  {
   "cell_type": "code",
   "execution_count": 13,
   "metadata": {},
   "outputs": [
    {
     "data": {
      "image/png": "[encoded data removed]",
      "text/plain": [
       "<Figure size 432x288 with 1 Axes>"
      ]
     },
     "metadata": {
      "needs_background": "light"
     },
     "output_type": "display_data"
    },
    {
     "name": "stdout",
     "output_type": "stream",
     "text": [
      "Prediction:  3\n"
     ]
    }
   ],
   "source": [
    "def main():\n",
    "    img_path = glob.glob('img/svhn/*.jpg')[random.randint(1,len(glob.glob('img/svhn/*.jpg'))-1)]\n",
    "    img = Image.open(img_path)\n",
    "    plt.imshow(np.asarray(img))\n",
    "    plt.axis('off')\n",
    "    plt.title(\"Input Image\", fontsize = 20)\n",
    "    plt.show()\n",
    "    img = transforms.ToTensor()(img).cuda()\n",
    "    model = model_root().cuda().eval()\n",
    "    model.load_state_dict(torch.load('../Models/svhn_root.pth'))\n",
    "    print(\"Prediction: \", demo(model, img, torch.device(\"cuda\")))\n",
    "\n",
    "if __name__== \"__main__\":\n",
    "        main()\n"
   ]
  },
  {
   "cell_type": "code",
   "execution_count": null,
   "metadata": {},
   "outputs": [],
   "source": []
  },
  {
   "cell_type": "code",
   "execution_count": null,
   "metadata": {},
   "outputs": [],
   "source": []
  },
  {
   "cell_type": "code",
   "execution_count": null,
   "metadata": {},
   "outputs": [],
   "source": []
  }
 ],
 "metadata": {
  "kernelspec": {
   "display_name": "Python 3",
   "language": "python",
   "name": "python3"
  },
  "language_info": {
   "codemirror_mode": {
    "name": "ipython",
    "version": 3
   },
   "file_extension": ".py",
   "mimetype": "text/x-python",
   "name": "python",
   "nbconvert_exporter": "python",
   "pygments_lexer": "ipython3",
   "version": "3.7.4"
  }
 },
 "nbformat": 4,
 "nbformat_minor": 2
}
